{
 "cells": [
  {
   "cell_type": "code",
   "execution_count": 5,
   "id": "070910d6-d576-4357-8de8-fd49cf11bcf2",
   "metadata": {},
   "outputs": [
    {
     "name": "stdout",
     "output_type": "stream",
     "text": [
      "Logistic Regression Accuracy: 0.49\n",
      "SVM Accuracy: 0.56\n",
      "KNN Accuracy: 0.55\n"
     ]
    }
   ],
   "source": [
    "from sklearn.model_selection import train_test_split\n",
    "from sklearn.linear_model import LogisticRegression\n",
    "from sklearn.svm import SVC\n",
    "from sklearn.neighbors import KNeighborsClassifier\n",
    "from sklearn.metrics import accuracy_score\n",
    "import numpy as np\n",
    "\n",
    "# Define the class to handle the pipeline\n",
    "class CANBusML:\n",
    "    def __init__(self):\n",
    "        pass\n",
    "# Logistic_Regression \n",
    "    \n",
    "    def train_logistic_regression(self, X_train, y_train, X_test, y_test):\n",
    "        \"\"\"Train Logistic Regression\"\"\"\n",
    "        model = LogisticRegression(max_iter=1000)\n",
    "        model.fit(X_train, y_train)\n",
    "        y_pred = model.predict(X_test)\n",
    "        accuracy = accuracy_score(y_test, y_pred)\n",
    "        print(\"Logistic Regression Accuracy:\", accuracy)\n",
    "        return model\n",
    "# Support vector Machine(SVM)\n",
    "    \n",
    "    def train_svm(self, X_train, y_train, X_test, y_test):\n",
    "        \"\"\"Train SVM\"\"\"\n",
    "        model = SVC()\n",
    "        model.fit(X_train, y_train)\n",
    "        y_pred = model.predict(X_test)\n",
    "        accuracy = accuracy_score(y_test, y_pred)\n",
    "        print(\"SVM Accuracy:\", accuracy)\n",
    "        return model\n",
    "# K_Nearest Neighbours (KNN)\n",
    "    def train_knn(self, X_train, y_train, X_test, y_test):\n",
    "        \"\"\"Train KNN\"\"\"\n",
    "        model = KNeighborsClassifier()\n",
    "        model.fit(X_train, y_train)\n",
    "        y_pred = model.predict(X_test)\n",
    "        accuracy = accuracy_score(y_test, y_pred)\n",
    "        print(\"KNN Accuracy:\", accuracy)\n",
    "        return model\n",
    "\n",
    "\n",
    "# Sample Data Loading (Replace with your actual data)\n",
    "# Assume that `X` is the feature matrix and `y` is the target variable\n",
    "# Example: X = data.drop(columns='target'), y = data['target']\n",
    "X = np.random.randn(1000, 10)  # Placeholder for feature matrix (1000 samples, 10 features)\n",
    "y = np.random.choice([0, 1], size=1000)  # Placeholder for binary target variable (0 or 1)\n",
    "\n",
    "# Split the data into training and testing sets\n",
    "X_train, X_test, y_train, y_test = train_test_split(X, y, test_size=0.2, random_state=42)\n",
    "\n",
    "# Initialize the pipeline object\n",
    "pipeline = CANBusML()\n",
    "\n",
    "# Train and Compare Models\n",
    "lr_model = pipeline.train_logistic_regression(X_train, y_train, X_test, y_test)\n",
    "svm_model = pipeline.train_svm(X_train, y_train, X_test, y_test)\n",
    "knn_model = pipeline.train_knn(X_train, y_train, X_test, y_test)\n"
   ]
  },
  {
   "cell_type": "code",
   "execution_count": null,
   "id": "6481a9e2-6edf-413c-860b-870b08a648b7",
   "metadata": {},
   "outputs": [],
   "source": []
  }
 ],
 "metadata": {
  "kernelspec": {
   "display_name": "Workbench Python",
   "language": "python",
   "name": "workbench_python"
  },
  "language_info": {
   "codemirror_mode": {
    "name": "ipython",
    "version": 3
   },
   "file_extension": ".py",
   "mimetype": "text/x-python",
   "name": "python",
   "nbconvert_exporter": "python",
   "pygments_lexer": "ipython3",
   "version": "3.11.11"
  }
 },
 "nbformat": 4,
 "nbformat_minor": 5
}
